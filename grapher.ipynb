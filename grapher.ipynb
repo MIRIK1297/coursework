{
 "cells": [
  {
   "cell_type": "code",
   "execution_count": 1,
   "metadata": {},
   "outputs": [
    {
     "name": "stdout",
     "output_type": "stream",
     "text": [
      "Initializing for CuckooVirusShare/\n",
      "Processed 100 traces, 46 files\n",
      "Processed 200 traces, 100 files\n",
      "Processed 300 traces, 159 files\n",
      "Processed 400 traces, 202 files\n",
      "Processed 500 traces, 252 files\n",
      "All calls written\n"
     ]
    }
   ],
   "source": [
    "import json\n",
    "import os\n",
    "import pickle\n",
    "from pprint import pprint\n",
    "\n",
    "from sklearn.model_selection import train_test_split\n",
    "#train_test_split(X, y, test_size=0.2, random_state=rand_seed)\n",
    "\n",
    "\n",
    "all_tokens = {}\n",
    "\n",
    "prep_path = 'data/preprocessed/'\n",
    "graphs_dir = 'data/graphs/'\n",
    "prep_dirs = ['CuckooClean/', 'CuckooCleanHippo/', 'CuckooCleanPippo/', 'CuckooVirusShare/']\n",
    "files_a, files_b = 0, 300\n",
    "labels = [False, False, False, True]\n",
    "for prep_dir in prep_dirs:\n",
    "    if prep_dir != 'CuckooVirusShare/':\n",
    "        continue\n",
    "    print('Initializing for ' + prep_dir)\n",
    "    all_calls = {}\n",
    "    processed_files_num = 0\n",
    "    file_num = 0\n",
    "    num_of_traces = 0\n",
    "    not_one_traces = []\n",
    "    for filename in sorted([x for x in os.listdir(prep_path + prep_dir) if x.endswith('.json')])[files_a: files_b]:\n",
    "        with open(prep_path + prep_dir + filename) as json_file:\n",
    "            proc_traces = json.load(json_file)\n",
    "        if len(proc_traces) != 1:\n",
    "            not_one_traces.append(prep_path + prep_dir + filename)\n",
    "        num_of_traces += len(proc_traces)\n",
    "        for calls_list in proc_traces:\n",
    "            g_calls = {}\n",
    "            g_tokens = {}\n",
    "            for log in calls_list[\"calls\"]:\n",
    "                if len(log) != 1:\n",
    "                    print('Log record {} len not 1 in {}'.format(str(log), prep_path + prep_dir + filename))\n",
    "                    continue\n",
    "\n",
    "                call_name = next(iter(log))\n",
    "                call_args = log[call_name]\n",
    "\n",
    "                if not call_name in g_calls:\n",
    "                    g_calls[call_name] = set()\n",
    "\n",
    "                for call_arg in call_args:\n",
    "                    str_arg = str(call_arg)\n",
    "                    g_calls[call_name].add(str_arg)\n",
    "                    if not str_arg in g_tokens:\n",
    "                        g_tokens[str_arg] = set()\n",
    "                    g_tokens[str_arg].add(call_name)\n",
    "                    if not str_arg in all_tokens:\n",
    "                        all_tokens[str_arg] = 1\n",
    "                    else:\n",
    "                        all_tokens[str_arg] += 1\n",
    "\n",
    "                if not call_name in all_calls:\n",
    "                    all_calls[call_name] = 1\n",
    "                else:\n",
    "                    all_calls[call_name] += 1\n",
    "                    \n",
    "            if not os.path.exists(graphs_dir + prep_dir):\n",
    "                os.makedirs(graphs_dir + prep_dir)\n",
    "            \n",
    "            graph = {'g_calls':g_calls, 'g_tokens': g_tokens}\n",
    "            with open(graphs_dir + prep_dir + filename[0] + '_' + str(file_num) + '.json', 'wb') as out_file:\n",
    "                pickle.dump(graph, out_file, pickle.HIGHEST_PROTOCOL)\n",
    "            file_num += 1\n",
    "            if file_num % 100 == 0:\n",
    "                print('Processed {} traces, {} files'.format(file_num, processed_files_num))\n",
    "                \n",
    "            \n",
    "        processed_files_num += 1\n",
    "        #if processed_files_num > 200:\n",
    "        #    print('200 files gone')\n",
    "        #    break\n",
    "    \n",
    "    \n",
    "    with open(graphs_dir + prep_dir + 'all_calls_a' + str(files_a) + '_b' + str(files_b) + '.json', 'wb') as out_file:\n",
    "        pickle.dump(all_calls, out_file, pickle.HIGHEST_PROTOCOL)     \n",
    "    print('All calls written')\n",
    "    break\n",
    "    with open(graphs_dir + prep_dir + 'all_tokens_a' + str(files_a) + '_b' + str(files_b) + '.json', 'wb') as out_file:\n",
    "        pickle.dump(all_tokens, out_file, pickle.HIGHEST_PROTOCOL)        \n",
    "    print('All tokens written')\n",
    "    \n",
    "#hippo[0:100] last file_num was 566\n",
    "#pippo[0:0] last file_num was 0\n",
    "#virus[0:300] last file_num was 588\n",
    "         \n"
   ]
  },
  {
   "cell_type": "code",
   "execution_count": 3,
   "metadata": {},
   "outputs": [
    {
     "ename": "NameError",
     "evalue": "name 'file_num' is not defined",
     "output_type": "error",
     "traceback": [
      "\u001b[0;31m---------------------------------------------------------------------------\u001b[0m",
      "\u001b[0;31mNameError\u001b[0m                                 Traceback (most recent call last)",
      "\u001b[0;32m<ipython-input-3-d4f73dfdc0d9>\u001b[0m in \u001b[0;36m<module>\u001b[0;34m\u001b[0m\n\u001b[0;32m----> 1\u001b[0;31m \u001b[0mprint\u001b[0m\u001b[0;34m(\u001b[0m\u001b[0mfile_num\u001b[0m\u001b[0;34m)\u001b[0m\u001b[0;34m\u001b[0m\u001b[0;34m\u001b[0m\u001b[0m\n\u001b[0m\u001b[1;32m      2\u001b[0m \u001b[0mprint\u001b[0m\u001b[0;34m(\u001b[0m\u001b[0mprocessed_files_num\u001b[0m\u001b[0;34m)\u001b[0m\u001b[0;34m\u001b[0m\u001b[0;34m\u001b[0m\u001b[0m\n",
      "\u001b[0;31mNameError\u001b[0m: name 'file_num' is not defined"
     ]
    }
   ],
   "source": [
    "print(file_num)\n",
    "print(processed_files_num)\n"
   ]
  },
  {
   "cell_type": "code",
   "execution_count": 4,
   "metadata": {},
   "outputs": [
    {
     "name": "stdout",
     "output_type": "stream",
     "text": [
      "<class 'dict'>\n",
      "307721\n",
      "2233437\n"
     ]
    }
   ],
   "source": [
    "print(type(all_tokens))\n",
    "print(len(all_tokens))\n",
    "print(sorted(all_tokens.values())[-1])\n"
   ]
  },
  {
   "cell_type": "code",
   "execution_count": 7,
   "metadata": {},
   "outputs": [
    {
     "name": "stdout",
     "output_type": "stream",
     "text": [
      "<class 'dict'>\n",
      "33280\n",
      "['0x00000000', '0x80000000', 'HKEY_LOCAL_MACHINE\\\\Software\\\\Microsoft\\\\Windows NT\\\\CurrentVersion\\\\Image File Execution Options\\\\ntdll.dll', 'HKEY_LOCAL_MACHINE\\\\Software\\\\Microsoft\\\\Windows NT\\\\CurrentVersion\\\\Image File Execution Options\\\\KERNEL32.dll', '0x00000024']\n"
     ]
    }
   ],
   "source": [
    "top_tokens = { key:value for (key,value) in all_tokens.items() if value > 5}\n",
    "print(type(top_tokens))\n",
    "print(len(top_tokens))\n",
    "#print(list(top_tokens.items()))\n",
    "print(list(top_tokens.keys())[0:5])"
   ]
  },
  {
   "cell_type": "code",
   "execution_count": 8,
   "metadata": {},
   "outputs": [],
   "source": [
    "with open(graphs_dir + 'CuckooVirusShare/' + 'top_tokens_a' + str(files_a) + '_b' + str(files_b) + '.json', 'wb') as out_file:\n",
    "    pickle.dump(top_tokens, out_file, pickle.HIGHEST_PROTOCOL)   "
   ]
  },
  {
   "cell_type": "code",
   "execution_count": 1,
   "metadata": {},
   "outputs": [
    {
     "name": "stdout",
     "output_type": "stream",
     "text": [
      "54903805\n"
     ]
    }
   ],
   "source": [
    "from collections import Counter\n",
    "import pickle\n",
    "\n",
    "with open('data/graphs/' + 'CuckooClean/' + 'top_tokens' + '.json', 'rb') as out_file:\n",
    "    top_tokens_clean = pickle.load(out_file)  \n",
    "sum_top_tokens_clean = sum(top_tokens_clean.values())\n",
    "\n",
    "with open('data/graphs/' + 'CuckooCleanHippo/' + 'top_tokens_a0_b100' + '.json', 'rb') as out_file:\n",
    "    top_tokens_hippo = pickle.load(out_file)  \n",
    "sum_top_tokens_hippo =sum(top_tokens_hippo.values())\n",
    "\n",
    "with open('data/graphs/' + 'CuckooVirusShare/' + 'top_tokens_a0_b300' + '.json', 'rb') as out_file:\n",
    "    top_tokens_virus = pickle.load(out_file) \n",
    "sum_top_tokens_virus = sum(top_tokens_virus.values())\n",
    "\n",
    "print(sum_top_tokens_virus + sum_top_tokens_hippo + sum_top_tokens_clean)"
   ]
  },
  {
   "cell_type": "code",
   "execution_count": 2,
   "metadata": {},
   "outputs": [
    {
     "name": "stdout",
     "output_type": "stream",
     "text": [
      "54903805\n"
     ]
    }
   ],
   "source": [
    "top_tokens_all = dict(Counter(top_tokens_clean)+Counter(top_tokens_hippo)+Counter(top_tokens_virus))\n",
    "print(sum(top_tokens_all.values()))"
   ]
  },
  {
   "cell_type": "code",
   "execution_count": 3,
   "metadata": {},
   "outputs": [
    {
     "name": "stdout",
     "output_type": "stream",
     "text": [
      "204225\n",
      "140505\n",
      "120831\n",
      "33280\n"
     ]
    }
   ],
   "source": [
    "import operator\n",
    "sorted_tokens = sorted(top_tokens_all.items(), key=operator.itemgetter(1), reverse=True)\n",
    "print(len(sorted_tokens))\n",
    "print(len(top_tokens_clean))\n",
    "print(len(top_tokens_hippo))\n",
    "print(len(top_tokens_virus))\n"
   ]
  },
  {
   "cell_type": "code",
   "execution_count": 4,
   "metadata": {},
   "outputs": [
    {
     "name": "stdout",
     "output_type": "stream",
     "text": [
      "[('0', 8089857), ('0xffffffff', 1803864), ('1', 1706338), ('4096', 1704214), ('', 1251853), ('4', 1246827), ('0x00000000', 1112177), ('0x02000000', 583609), ('0x7e410000', 467096), ('USER32', 455931), ('2', 448764), ('0x00000001', 402251), ('#0', 356871), ('32', 353299), ('0x80000002', 344832), ('31', 331871), ('5', 304406), ('32768', 288379), ('0x80000000', 283490), ('1024', 279330)]\n",
      "('0x3d153000', 100)\n",
      "('appHelp.dll', 99)\n",
      "('0x258b4000', 26)\n",
      "4096\n",
      "['0', '0xffffffff', '1', '4096', '', '4', '0x00000000', '0x02000000', '0x7e410000', 'USER32', '2', '0x00000001', '#0', '32', '0x80000002', '31', '5', '32768', '0x80000000', '1024']\n"
     ]
    }
   ],
   "source": [
    "print(sorted_tokens[:20])\n",
    "print(sorted_tokens[14771])\n",
    "print(sorted_tokens[14772])\n",
    "print(sorted_tokens[65536])\n",
    "\n",
    "final_tokens = [x[0] for x in sorted_tokens[:4096]]\n",
    "print(len(final_tokens))\n",
    "print(final_tokens[:20])"
   ]
  },
  {
   "cell_type": "code",
   "execution_count": 5,
   "metadata": {},
   "outputs": [],
   "source": [
    "tokens_map = {name : i for i, name in enumerate(final_tokens)}"
   ]
  },
  {
   "cell_type": "code",
   "execution_count": 7,
   "metadata": {},
   "outputs": [],
   "source": [
    "import json\n",
    "with open('data/graphs/' + 'tokens_map_4096.json', 'w') as outfile:\n",
    "    json.dump(tokens_map, outfile)"
   ]
  },
  {
   "cell_type": "code",
   "execution_count": 32,
   "metadata": {},
   "outputs": [],
   "source": [
    "with open('data/graphs/' + 'top_tokens_all.json', 'wb') as out_file:\n",
    "    pickle.dump(final_tokens, out_file, pickle.HIGHEST_PROTOCOL)"
   ]
  },
  {
   "cell_type": "code",
   "execution_count": 33,
   "metadata": {},
   "outputs": [
    {
     "name": "stdout",
     "output_type": "stream",
     "text": [
      "21076930\n",
      "21076930\n"
     ]
    }
   ],
   "source": [
    "with open('data/graphs/' + 'CuckooClean/' + 'all_calls' + '.json', 'rb') as out_file:\n",
    "    all_calls_clean = pickle.load(out_file)  \n",
    "sum_all_calls_clean = sum(all_calls_clean.values())\n",
    "\n",
    "with open('data/graphs/' + 'CuckooCleanHippo/' + 'all_calls_a0_b100' + '.json', 'rb') as out_file:\n",
    "    all_calls_hippo = pickle.load(out_file)  \n",
    "sum_all_calls_hippo =sum(all_calls_hippo.values())\n",
    "\n",
    "with open('data/graphs/' + 'CuckooVirusShare/' + 'all_calls_a0_b300' + '.json', 'rb') as out_file:\n",
    "    all_calls_virus = pickle.load(out_file) \n",
    "sum_all_calls_virus = sum(all_calls_virus.values())\n",
    "    \n",
    "print(sum_all_calls_clean + sum_all_calls_hippo + sum_all_calls_virus)\n",
    "\n",
    "all_calls_all = dict(Counter(all_calls_clean)+Counter(all_calls_hippo)+Counter(all_calls_virus))\n",
    "print(sum(all_calls_all.values()))"
   ]
  },
  {
   "cell_type": "code",
   "execution_count": 35,
   "metadata": {},
   "outputs": [
    {
     "name": "stdout",
     "output_type": "stream",
     "text": [
      "277\n",
      "277\n",
      "260\n",
      "243\n",
      "262\n"
     ]
    }
   ],
   "source": [
    "print(len(all_calls_all))\n",
    "sorted_calls = sorted(all_calls_all.items(), key=operator.itemgetter(1), reverse=True)\n",
    "print(len(sorted_calls))\n",
    "print(len(all_calls_clean))\n",
    "print(len(all_calls_hippo))\n",
    "print(len(all_calls_virus))"
   ]
  },
  {
   "cell_type": "code",
   "execution_count": 39,
   "metadata": {},
   "outputs": [
    {
     "name": "stdout",
     "output_type": "stream",
     "text": [
      "[('NtWriteFile', 2171124), ('GetSystemTimeAsFileTime', 1923418), ('NtReadFile', 1375270), ('GetAsyncKeyState', 1247014), ('NtClose', 1035732)]\n",
      "277\n",
      "['CryptEncrypt', 'NtDeleteKey', 'CryptProtectData', 'NotifyBootConfigStatus', 'CertOpenSystemStoreA', 'CreateDirectoryExW', 'RtlRemoveVectoredExceptionHandler', 'DeleteService', 'RtlDecompressBuffer', 'RtlCreateUserThread']\n"
     ]
    }
   ],
   "source": [
    "print(sorted_calls[:5])\n",
    "final_calls = [x[0] for x in sorted_calls]\n",
    "print(len(final_calls))\n",
    "print(final_calls[-10:])"
   ]
  },
  {
   "cell_type": "code",
   "execution_count": 40,
   "metadata": {},
   "outputs": [],
   "source": [
    "with open('data/graphs/' + 'calls_all.json', 'wb') as out_file:\n",
    "    pickle.dump(final_calls, out_file, pickle.HIGHEST_PROTOCOL)"
   ]
  }
 ],
 "metadata": {
  "kernelspec": {
   "display_name": "Python 3",
   "language": "python",
   "name": "python3"
  },
  "language_info": {
   "codemirror_mode": {
    "name": "ipython",
    "version": 3
   },
   "file_extension": ".py",
   "mimetype": "text/x-python",
   "name": "python",
   "nbconvert_exporter": "python",
   "pygments_lexer": "ipython3",
   "version": "3.8.2"
  }
 },
 "nbformat": 4,
 "nbformat_minor": 4
}
