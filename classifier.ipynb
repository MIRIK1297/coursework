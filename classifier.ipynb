{
 "cells": [
  {
   "cell_type": "code",
   "execution_count": 40,
   "metadata": {},
   "outputs": [],
   "source": [
    "%%capture\n",
    "from tqdm.notebook import tqdm\n",
    "\n",
    "import pickle\n",
    "import json\n",
    "import os\n",
    "import numpy as np\n",
    "import pandas as pd\n",
    "import tensorflow as tf\n",
    "\n",
    "random_seed = 42\n",
    "np.random.seed(random_seed)\n",
    "tf.random.set_seed(random_seed)\n",
    "physical_devices = tf.config.list_physical_devices('GPU') \n",
    "tf.config.experimental.set_memory_growth(physical_devices[0], True)\n",
    "\n",
    "\n",
    "binary_vectors_size = 8477\n",
    "\n",
    "data_dir = 'data/'\n",
    "preproc_path = data_dir + 'preprocessed/8477_vec_size/'\n",
    "\n",
    "binary_path = preproc_path + 'binary/'\n",
    "train_binary_path = binary_path + 'train/'\n",
    "test_binary_path = binary_path + 'test/'\n",
    "\n",
    "encoded_path = preproc_path + 'encoded_new/'\n",
    "train_encoded_path = encoded_path + 'train/'\n",
    "test_encoded_path = encoded_path + 'test/'\n",
    "\n",
    "pooled_path = preproc_path + 'pooled/'\n",
    "\n",
    "benign_dir = 'benign/'\n",
    "malicious_dir = 'malicious/'\n",
    "\n",
    "models_path = 'models/'\n",
    "\n",
    "encoder_model_filename = 'encoder_lss3.3374e-02_dim8477_hls32_ils2048_bs64_e100+100+100+100+100_need_train_more_reg1.000e-05_drp0.6_optadadelta.h5'"
   ]
  },
  {
   "cell_type": "code",
   "execution_count": 41,
   "metadata": {},
   "outputs": [],
   "source": [
    "from tensorflow.keras.models import load_model\n",
    "\n",
    "def encode_binary_vectors(encoder_path):\n",
    "    print('Binary vectors encoding...')\n",
    "    encoder = load_model(encoder_path, compile=False)\n",
    "\n",
    "    for dirpath, dirnames, filenames in os.walk(binary_path):\n",
    "        npy_filenames = [x for x in filenames if x.endswith('.npy')]\n",
    "        if not npy_filenames:\n",
    "            continue\n",
    "\n",
    "        dir_name = dirpath[len(binary_path):]\n",
    "        output_path = os.path.join(encoded_path, dir_name)\n",
    "        if not os.path.isdir(output_path):\n",
    "            os.makedirs(output_path)\n",
    "\n",
    "        for filename in tqdm(npy_filenames, desc=dir_name):\n",
    "            vec_log = np.load(os.path.join(dirpath, filename))[:,:binary_vectors_size].astype(np.float64,copy=False)\n",
    "            encoded_log = encoder.predict(vec_log)\n",
    "            np.save(os.path.join(output_path, filename), encoded_log)"
   ]
  },
  {
   "cell_type": "code",
   "execution_count": 42,
   "metadata": {},
   "outputs": [
    {
     "name": "stdout",
     "output_type": "stream",
     "text": [
      "Binary vectors encoding...\n"
     ]
    },
    {
     "data": {
      "application/vnd.jupyter.widget-view+json": {
       "model_id": "50dc1ad098e245a4b5d709ddb664baec",
       "version_major": 2,
       "version_minor": 0
      },
      "text/plain": [
       "HBox(children=(FloatProgress(value=0.0, description='test\\\\benign', max=530.0, style=ProgressStyle(description…"
      ]
     },
     "metadata": {},
     "output_type": "display_data"
    },
    {
     "name": "stdout",
     "output_type": "stream",
     "text": [
      "\n"
     ]
    },
    {
     "data": {
      "application/vnd.jupyter.widget-view+json": {
       "model_id": "4284d7430add4d61a9bfc3d961ccd11a",
       "version_major": 2,
       "version_minor": 0
      },
      "text/plain": [
       "HBox(children=(FloatProgress(value=0.0, description='test\\\\malicious', max=418.0, style=ProgressStyle(descript…"
      ]
     },
     "metadata": {},
     "output_type": "display_data"
    },
    {
     "name": "stdout",
     "output_type": "stream",
     "text": [
      "\n"
     ]
    },
    {
     "data": {
      "application/vnd.jupyter.widget-view+json": {
       "model_id": "0ebd89df4611459cb81aa87dcc9b80de",
       "version_major": 2,
       "version_minor": 0
      },
      "text/plain": [
       "HBox(children=(FloatProgress(value=0.0, description='train\\\\benign', max=2184.0, style=ProgressStyle(descripti…"
      ]
     },
     "metadata": {},
     "output_type": "display_data"
    },
    {
     "name": "stdout",
     "output_type": "stream",
     "text": [
      "\n"
     ]
    },
    {
     "data": {
      "application/vnd.jupyter.widget-view+json": {
       "model_id": "b261e6b0cf0444749d95d315722a4f6b",
       "version_major": 2,
       "version_minor": 0
      },
      "text/plain": [
       "HBox(children=(FloatProgress(value=0.0, description='train\\\\malicious', max=1608.0, style=ProgressStyle(descri…"
      ]
     },
     "metadata": {},
     "output_type": "display_data"
    },
    {
     "name": "stdout",
     "output_type": "stream",
     "text": [
      "\n"
     ]
    }
   ],
   "source": [
    "encoder_path = models_path + encoder_model_filename\n",
    "encode_binary_vectors(encoder_path)"
   ]
  },
  {
   "cell_type": "code",
   "execution_count": 43,
   "metadata": {},
   "outputs": [],
   "source": [
    "def pool_encoded_features(dir_path):\n",
    "    npy_filenames = [x for x in os.listdir(dir_path) if x.endswith('.npy')]\n",
    "    ds = []\n",
    "    for filename in npy_filenames:\n",
    "        encoded_sample = np.load(dir_path + filename)\n",
    "        #pooled_features = np.concatenate([np.min(encoded_sample, axis=0), np.max(encoded_sample, axis=0), np.mean(encoded_sample, axis=0)])\n",
    "        pooled_features = np.max(encoded_sample, axis=0)\n",
    "\n",
    "        ds.append(pooled_features)\n",
    "        \n",
    "    return np.stack(ds)\n",
    "\n",
    "\n",
    "def get_labled_samples(dir_path):\n",
    "    X_ben = pool_encoded_features(dir_path + benign_dir)\n",
    "    y_ben = np.zeros(X_ben.shape[0], dtype=np.int)\n",
    "    \n",
    "    X_mal = pool_encoded_features(dir_path + malicious_dir)\n",
    "    y_mal = np.ones(X_mal.shape[0], dtype=np.int)\n",
    "    \n",
    "    return np.concatenate([X_ben, X_mal], axis=0), np.concatenate([y_ben, y_mal])\n",
    "    \n",
    "    \n",
    "def get_pooled_dataset(recreate=False):\n",
    "    X_train_path = pooled_path + 'X_train.npy'\n",
    "    y_train_path = pooled_path + 'y_train.npy'\n",
    "\n",
    "    X_test_path = pooled_path + 'X_test.npy'\n",
    "    y_test_path = pooled_path + 'y_test.npy'\n",
    "\n",
    "    if not os.path.exists(pooled_path):\n",
    "        os.makedirs(pooled_path)\n",
    "            \n",
    "    if os.path.exists(X_train_path) \\\n",
    "       and os.path.exists(y_train_path) and not recreate:\n",
    "        \n",
    "        X_train = np.load(X_train_path)\n",
    "        y_train = np.load(y_train_path)\n",
    "    else:\n",
    "        print('Creating train dataset...')\n",
    "        X_train, y_train = get_labled_samples(train_encoded_path)\n",
    "        \n",
    "        np.save(X_train_path, X_train)\n",
    "        np.save(y_train_path, y_train)\n",
    "    \n",
    "    \n",
    "    if os.path.exists(X_test_path) \\\n",
    "       and os.path.exists(y_test_path) and not recreate:\n",
    "        \n",
    "        X_test = np.load(X_test_path)\n",
    "        y_test = np.load(y_test_path)\n",
    "    else:\n",
    "        print('Creating test dataset...')\n",
    "        X_test, y_test = get_labled_samples(test_encoded_path)\n",
    "        \n",
    "        np.save(X_test_path, X_test)\n",
    "        np.save(y_test_path, y_test)   \n",
    "    \n",
    "    return X_train, y_train, X_test, y_test"
   ]
  },
  {
   "cell_type": "code",
   "execution_count": 44,
   "metadata": {},
   "outputs": [
    {
     "name": "stdout",
     "output_type": "stream",
     "text": [
      "Creating train dataset...\n",
      "Creating test dataset...\n"
     ]
    }
   ],
   "source": [
    "X_train, y_train, X_test, y_test = get_pooled_dataset(recreate=True)"
   ]
  },
  {
   "cell_type": "code",
   "execution_count": 45,
   "metadata": {},
   "outputs": [
    {
     "name": "stdout",
     "output_type": "stream",
     "text": [
      "(3792, 32) float32 681.584\n",
      "(3792,) int32 0.4240506329113924 [0 1]\n",
      "(948, 32) float32 762.88727\n",
      "(948,) int32 0.4409282700421941 [0 1]\n"
     ]
    }
   ],
   "source": [
    "print(X_train.shape, X_train.dtype, X_train.mean())\n",
    "print(y_train.shape, y_train.dtype, y_train.mean(), np.unique(y_train))\n",
    "print(X_test.shape, X_test.dtype, X_test.mean())\n",
    "print(y_test.shape, y_test.dtype, y_test.mean(), np.unique(y_test))"
   ]
  },
  {
   "cell_type": "code",
   "execution_count": 46,
   "metadata": {},
   "outputs": [
    {
     "name": "stdout",
     "output_type": "stream",
     "text": [
      "Fitting 5 folds for each of 70 candidates, totalling 350 fits\n"
     ]
    },
    {
     "name": "stderr",
     "output_type": "stream",
     "text": [
      "[Parallel(n_jobs=1)]: Using backend SequentialBackend with 1 concurrent workers.\n",
      "[Parallel(n_jobs=1)]: Done 350 out of 350 | elapsed:  7.3min finished\n"
     ]
    },
    {
     "name": "stdout",
     "output_type": "stream",
     "text": [
      "{'SVM__C': 200, 'SVM__gamma': 5}\n",
      "0.5938818565400844\n"
     ]
    }
   ],
   "source": [
    "from sklearn.svm import SVC\n",
    "from sklearn.preprocessing import StandardScaler\n",
    "from sklearn.model_selection import train_test_split, KFold, GridSearchCV\n",
    "from sklearn.pipeline import Pipeline\n",
    "from sklearn.metrics import roc_curve, classification_report, confusion_matrix\n",
    "\n",
    "\n",
    "param_grid = {'SVM__C': [1, 10, 100, 200, 400, 500, 1000],\n",
    "              'SVM__gamma': [0.001, 0.01, 0.1, 0.3, 0.6, 0.8, 1, 2, 5, 10]}\n",
    "\n",
    "\n",
    "cv = KFold(n_splits=5, shuffle=True, random_state=random_seed)\n",
    "\n",
    "steps = [('scaler', StandardScaler()), ('SVM', SVC(kernel='rbf'))]\n",
    "svm_pipeline = Pipeline(steps)\n",
    "\n",
    "grid = GridSearchCV(svm_pipeline, param_grid, cv=cv.split(X_train, y_train), verbose=1)\n",
    "grid.fit(X_train, y_train)\n",
    "\n",
    "print(grid.best_params_)\n",
    "\n",
    "best_model =  grid.best_estimator_\n",
    "print(best_model.score(X_test, y_test))"
   ]
  },
  {
   "cell_type": "code",
   "execution_count": 47,
   "metadata": {},
   "outputs": [
    {
     "name": "stdout",
     "output_type": "stream",
     "text": [
      "0.5938818565400844\n"
     ]
    },
    {
     "data": {
      "text/plain": [
       "(948,)"
      ]
     },
     "execution_count": 47,
     "metadata": {},
     "output_type": "execute_result"
    }
   ],
   "source": [
    "print(best_model.score(X_test, y_test))\n",
    "y_pred = best_model.predict(X_test)\n",
    "y_pred.shape"
   ]
  },
  {
   "cell_type": "code",
   "execution_count": 48,
   "metadata": {},
   "outputs": [
    {
     "name": "stdout",
     "output_type": "stream",
     "text": [
      "int32\n"
     ]
    },
    {
     "data": {
      "text/plain": [
       "(array([0, 1]), array([871,  77], dtype=int64))"
      ]
     },
     "execution_count": 48,
     "metadata": {},
     "output_type": "execute_result"
    }
   ],
   "source": [
    "print(y_pred.dtype)\n",
    "np.unique(y_pred, return_counts=True)"
   ]
  },
  {
   "cell_type": "code",
   "execution_count": 24,
   "metadata": {},
   "outputs": [
    {
     "name": "stdout",
     "output_type": "stream",
     "text": [
      "              precision    recall  f1-score   support\n",
      "\n",
      "           0       0.79      0.84      0.82       530\n",
      "           1       0.78      0.72      0.75       418\n",
      "\n",
      "    accuracy                           0.79       948\n",
      "   macro avg       0.79      0.78      0.78       948\n",
      "weighted avg       0.79      0.79      0.79       948\n",
      "\n",
      "[[445  85]\n",
      " [115 303]]\n",
      "[0.         0.16037736 1.        ] [0.         0.72488038 1.        ] [2 1 0]\n"
     ]
    }
   ],
   "source": [
    "print(classification_report(y_test, y_pred))\n",
    "print(confusion_matrix(y_test, y_pred))\n",
    "fpr, tpr, thresholds = roc_curve(y_test, y_pred)\n",
    "print(fpr, tpr, thresholds)"
   ]
  },
  {
   "cell_type": "code",
   "execution_count": 30,
   "metadata": {},
   "outputs": [
    {
     "name": "stdout",
     "output_type": "stream",
     "text": [
      "[[445  85]\n",
      " [115 303]]\n"
     ]
    },
    {
     "data": {
      "image/png": "[encoded data removed]",
      "text/plain": [
       "<Figure size 432x288 with 2 Axes>"
      ]
     },
     "metadata": {
      "needs_background": "light"
     },
     "output_type": "display_data"
    }
   ],
   "source": [
    "from sklearn.metrics import plot_confusion_matrix\n",
    "import matplotlib.pyplot as plt\n",
    "\n",
    "disp = plot_confusion_matrix(best_model, X_test, y_test,\n",
    "                             cmap=plt.cm.Blues)\n",
    "\n",
    "print(disp.confusion_matrix)\n",
    "\n",
    "plt.show()"
   ]
  }
 ],
 "metadata": {
  "kernelspec": {
   "display_name": "Python 3",
   "language": "python",
   "name": "python3"
  },
  "language_info": {
   "codemirror_mode": {
    "name": "ipython",
    "version": 3
   },
   "file_extension": ".py",
   "mimetype": "text/x-python",
   "name": "python",
   "nbconvert_exporter": "python",
   "pygments_lexer": "ipython3",
   "version": "3.8.3"
  }
 },
 "nbformat": 4,
 "nbformat_minor": 4
}
